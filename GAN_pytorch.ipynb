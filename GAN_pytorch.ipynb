{
  "cells": [
    {
      "cell_type": "markdown",
      "metadata": {
        "id": "view-in-github",
        "colab_type": "text"
      },
      "source": [
        "<a href=\"https://colab.research.google.com/github/hkyoo52/GAN/blob/main/GAN_pytorch.ipynb\" target=\"_parent\"><img src=\"https://colab.research.google.com/assets/colab-badge.svg\" alt=\"Open In Colab\"/></a>"
      ]
    },
    {
      "cell_type": "code",
      "execution_count": null,
      "metadata": {
        "id": "BBJi7pY0wWp2"
      },
      "outputs": [],
      "source": [
        "import torch\n",
        "import torch.nn as nn\n",
        "import torch.optim as optim\n",
        "import torchvision.utils as utils\n",
        "import torchvision.datasets\n",
        "import torchvision.transforms as transforms\n",
        "from torchvision.transforms.functional import to_pil_image\n",
        "import numpy as np\n",
        "from matplotlib import pyplot as plt\n",
        "\n",
        "is_cuda = torch.cuda.is_available()\n",
        "device = torch.device('cuda' if is_cuda else 'cpu')"
      ]
    },
    {
      "cell_type": "code",
      "execution_count": null,
      "metadata": {
        "id": "FRw4o0cU0lSW"
      },
      "outputs": [],
      "source": [
        "# 하이퍼 파라미터\n",
        "batch_size = 128\n",
        "img_rows=28\n",
        "img_cols=28\n",
        "channels=1\n",
        "\n",
        "img_shape=(img_rows,img_cols,channels)\n",
        "\n",
        "z_dim=100"
      ]
    },
    {
      "cell_type": "code",
      "execution_count": null,
      "metadata": {
        "colab": {
          "base_uri": "https://localhost:8080/",
          "height": 441,
          "referenced_widgets": [
            "4ee225e16a75462d9b0ea3b873aefe8c",
            "c087f664192e4ce0a60fd92db7affd73",
            "1819859431d8491592b63d1ab19083d5",
            "ecfdb1f6b4d64643b2b75bccfd4a776a",
            "57c5b1aa491d496d9bba69ef139194d4",
            "b097c8a94adf440c8166d906e31ea4d0",
            "9302c414942b49d5a97f38f482c086fd",
            "8fba19f493de4a6d80b0652ca0958603",
            "52e7436c718843e397c7b8f4f2f1fd2b",
            "443373627bb9419e97fd99c9694086f1",
            "37e2223de4714a11a8a1cb041ff1d02a",
            "687e35a8c8a342e79e8491bf62ac0ac8",
            "d9bac9b7fa554a888436055c2b0b9443",
            "13aeac5fb25543769c2eb98e323e585d",
            "31dd68d741944470a41c8a7358880efb",
            "179b911e29bc4e88a5254b6473df2dae",
            "974a87c280d5444dbe02c9dbd1cfa941",
            "1eb22cea7d614048a4ad5f3762829cb3",
            "695a686e52b844e2a95831f71650d954",
            "0089b3b9e2dc44cb8866bd7e77099599",
            "b22a68c58db54b3d99060a18f853cf01",
            "c0f0b48ee26a40d5873378089dea7076",
            "73caa70c95e24760975ec368f0b65f4c",
            "2d6b7f13747e4cff98676c188b43b206",
            "4224c0a755f94668a183de8924f13d95",
            "b3ebcb04bb544b8b84580139bf9424ca",
            "42cae830d6db4aeba92df57becfd5df5",
            "719a23a6e5de474cb9dbcba9be895a49",
            "fe2d87c4834849419fcff3486d9a6b66",
            "b2c0f40828b04fcb98d0ecaf8f6202cc",
            "75fa00431fa0477e81ffa75c9d2e9816",
            "c23d87435d4442768138d44a836da3c9",
            "cf12b6a865a443169ef5534448584235",
            "4d2df7082cb64dfa87d2fbdd742540ff",
            "58452222e4b540d79872c38660fe39c6",
            "e351e80d72a7402bbfaafef208d75e72",
            "b3b4670e5a784af88757e89379f2f22f",
            "08da4747a5b64c11ae919a7f561f851d",
            "ce0cbd1f28b94c60a545a920609cf72c",
            "ac798fa224094b95b621231e50d1d083",
            "0ad7183ecd5048b1a525a486bf0c7ed2",
            "3707f01b075c4f9cad763ba561d83e52",
            "fb4aec9308714aa2879ca5dfb67a8605",
            "0f5eb6cfabc44c9c9de020d7781bcdb0"
          ]
        },
        "id": "wU0NDv7Zxlqf",
        "outputId": "b0418d1b-286d-415a-c09a-574aeb2ed0db"
      },
      "outputs": [
        {
          "name": "stdout",
          "output_type": "stream",
          "text": [
            "Downloading http://yann.lecun.com/exdb/mnist/train-images-idx3-ubyte.gz\n",
            "Downloading http://yann.lecun.com/exdb/mnist/train-images-idx3-ubyte.gz to data/MNIST/raw/train-images-idx3-ubyte.gz\n"
          ]
        },
        {
          "data": {
            "application/vnd.jupyter.widget-view+json": {
              "model_id": "4ee225e16a75462d9b0ea3b873aefe8c",
              "version_major": 2,
              "version_minor": 0
            },
            "text/plain": [
              "  0%|          | 0/9912422 [00:00<?, ?it/s]"
            ]
          },
          "metadata": {},
          "output_type": "display_data"
        },
        {
          "name": "stdout",
          "output_type": "stream",
          "text": [
            "Extracting data/MNIST/raw/train-images-idx3-ubyte.gz to data/MNIST/raw\n",
            "\n",
            "Downloading http://yann.lecun.com/exdb/mnist/train-labels-idx1-ubyte.gz\n",
            "Downloading http://yann.lecun.com/exdb/mnist/train-labels-idx1-ubyte.gz to data/MNIST/raw/train-labels-idx1-ubyte.gz\n"
          ]
        },
        {
          "data": {
            "application/vnd.jupyter.widget-view+json": {
              "model_id": "687e35a8c8a342e79e8491bf62ac0ac8",
              "version_major": 2,
              "version_minor": 0
            },
            "text/plain": [
              "  0%|          | 0/28881 [00:00<?, ?it/s]"
            ]
          },
          "metadata": {},
          "output_type": "display_data"
        },
        {
          "name": "stdout",
          "output_type": "stream",
          "text": [
            "Extracting data/MNIST/raw/train-labels-idx1-ubyte.gz to data/MNIST/raw\n",
            "\n",
            "Downloading http://yann.lecun.com/exdb/mnist/t10k-images-idx3-ubyte.gz\n",
            "Downloading http://yann.lecun.com/exdb/mnist/t10k-images-idx3-ubyte.gz to data/MNIST/raw/t10k-images-idx3-ubyte.gz\n"
          ]
        },
        {
          "data": {
            "application/vnd.jupyter.widget-view+json": {
              "model_id": "73caa70c95e24760975ec368f0b65f4c",
              "version_major": 2,
              "version_minor": 0
            },
            "text/plain": [
              "  0%|          | 0/1648877 [00:00<?, ?it/s]"
            ]
          },
          "metadata": {},
          "output_type": "display_data"
        },
        {
          "name": "stdout",
          "output_type": "stream",
          "text": [
            "Extracting data/MNIST/raw/t10k-images-idx3-ubyte.gz to data/MNIST/raw\n",
            "\n",
            "Downloading http://yann.lecun.com/exdb/mnist/t10k-labels-idx1-ubyte.gz\n",
            "Downloading http://yann.lecun.com/exdb/mnist/t10k-labels-idx1-ubyte.gz to data/MNIST/raw/t10k-labels-idx1-ubyte.gz\n"
          ]
        },
        {
          "data": {
            "application/vnd.jupyter.widget-view+json": {
              "model_id": "4d2df7082cb64dfa87d2fbdd742540ff",
              "version_major": 2,
              "version_minor": 0
            },
            "text/plain": [
              "  0%|          | 0/4542 [00:00<?, ?it/s]"
            ]
          },
          "metadata": {},
          "output_type": "display_data"
        },
        {
          "name": "stdout",
          "output_type": "stream",
          "text": [
            "Extracting data/MNIST/raw/t10k-labels-idx1-ubyte.gz to data/MNIST/raw\n",
            "\n"
          ]
        }
      ],
      "source": [
        "# MNIST DATASET\n",
        "\n",
        "# standardization code\n",
        "transform = transforms.Compose([transforms.ToTensor(),transforms.Normalize(mean=[0.5],std=[0.5])])  # 만약 RGB이면 (0.5,0.5,0.5)\n",
        "\n",
        "\n",
        "# 데이터 불러오기\n",
        "mnist_train = torchvision.datasets.MNIST(root='data/',train=True, transform=transform,download=True)\n",
        "mnist_test  = torchvision.datasets.MNIST(root='data/', train=False,transform=transform,download=True)"
      ]
    },
    {
      "cell_type": "code",
      "execution_count": null,
      "metadata": {
        "colab": {
          "base_uri": "https://localhost:8080/",
          "height": 465
        },
        "id": "tpk1mUW0zoyC",
        "outputId": "b1f2c661-982d-416b-fe0b-6abf9d6b1847"
      },
      "outputs": [
        {
          "data": {
            "image/png": "[encoded data removed]",
            "text/plain": [
              "<Figure size 576x576 with 9 Axes>"
            ]
          },
          "metadata": {},
          "output_type": "display_data"
        }
      ],
      "source": [
        "figure = plt.figure(figsize=(8, 8))\n",
        "cols, rows = 3, 3\n",
        "for i in range(1, cols * rows + 1):\n",
        "    sample_idx = torch.randint(len(mnist_train), size=(1,)).item()\n",
        "    img, label = mnist_train[sample_idx]\n",
        "    figure.add_subplot(rows, cols, i)\n",
        "    plt.axis(\"off\") # x축, y축 안보이게 설정\n",
        "    plt.imshow(img.squeeze(), cmap=\"gray\")\n",
        "plt.show() "
      ]
    },
    {
      "cell_type": "code",
      "execution_count": null,
      "metadata": {
        "id": "cDdBuN7s0wR7"
      },
      "outputs": [],
      "source": [
        "# Data Loader\n",
        "# 파이토치는 dataset에 정답과 라벨을 붙이고, Dataloader로 쉽게 불러올 수 있게 한다.\n",
        "data_loader = torch.utils.data.DataLoader(dataset=mnist_train, batch_size=batch_size, shuffle=True)"
      ]
    },
    {
      "cell_type": "code",
      "execution_count": null,
      "metadata": {
        "id": "QSzhVwIQx6JE"
      },
      "outputs": [],
      "source": [
        "# 생성자 모델\n",
        "class Generator(nn.Module):\n",
        "    def __init__(self, params):\n",
        "        super().__init__()\n",
        "        self.z = params['z'] # 입력 노이즈 벡터 수, 100\n",
        "        self.img_size = params['img_size'] # 이미지 크기, 1x28x28\n",
        "\n",
        "        self.model = nn.Sequential(\n",
        "            nn.Linear(self.z, 128,),\n",
        "            nn.LeakyReLU(0.01),\n",
        "            nn.Linear(128,128 ),\n",
        "            nn.LeakyReLU(0.01),\n",
        "            nn.Linear(128,int(np.prod(self.img_size))),\n",
        "            nn.Tanh()\n",
        "        )\n",
        "\n",
        "    def forward(self, z):\n",
        "        img = self.model(z)\n",
        "        img = img.view(img.size(0), *self.img_size) # 28,28,1 크기로 바꿈\n",
        "        return img"
      ]
    },
    {
      "cell_type": "code",
      "execution_count": null,
      "metadata": {
        "id": "yIt8ifk125RR"
      },
      "outputs": [],
      "source": [
        "# 판별자 코드\n",
        "\n",
        "class Discriminator(nn.Module):\n",
        "    def __init__(self, params):\n",
        "        super().__init__()\n",
        "        self.img_size = params['img_size'] # 이미지 크기, 1x28x28\n",
        "\n",
        "        self.model = nn.Sequential(\n",
        "            nn.Linear(int(np.prod(self.img_size)), 128),\n",
        "            nn.LeakyReLU(0.01),\n",
        "            nn.Linear(128,128 ),\n",
        "            nn.LeakyReLU(0.01),\n",
        "            nn.Linear(128,1),\n",
        "            nn.Sigmoid()\n",
        "        )\n",
        "\n",
        "    def forward(self, x):\n",
        "        x = x.view(x.size(0), -1) \n",
        "        x = self.model(x)\n",
        "        return x"
      ]
    },
    {
      "cell_type": "code",
      "execution_count": null,
      "metadata": {
        "id": "X8gWX21K421_"
      },
      "outputs": [],
      "source": [
        "# 초기화\n",
        "\n",
        "# 각 계층에 초기값을 적용해준다.\n",
        "def initialize_weights(model):\n",
        "    classname = model.__class__.__name__\n",
        "    if classname.find('Linear') != -1:         # LeakyRelu 같은거에는 효과 적용 X하려고, \n",
        "      nn.init.normal_(model.weight.data, 0.0, 0.02)\n",
        "      nn.init.constant_(model.bias.data, 0)"
      ]
    },
    {
      "cell_type": "code",
      "execution_count": null,
      "metadata": {
        "colab": {
          "base_uri": "https://localhost:8080/"
        },
        "id": "VC1STvJ6MNS2",
        "outputId": "4020c9ed-9dab-4159-8b4d-37833d78a618"
      },
      "outputs": [
        {
          "data": {
            "text/plain": [
              "Discriminator(\n",
              "  (model): Sequential(\n",
              "    (0): Linear(in_features=784, out_features=128, bias=True)\n",
              "    (1): LeakyReLU(negative_slope=0.01)\n",
              "    (2): Linear(in_features=128, out_features=128, bias=True)\n",
              "    (3): LeakyReLU(negative_slope=0.01)\n",
              "    (4): Linear(in_features=128, out_features=1, bias=True)\n",
              "    (5): Sigmoid()\n",
              "  )\n",
              ")"
            ]
          },
          "execution_count": 9,
          "metadata": {},
          "output_type": "execute_result"
        }
      ],
      "source": [
        "# check\n",
        "params = {'z':100,'img_size':(1,28,28)}\n",
        "\n",
        "model_gen = Generator(params).to(device)\n",
        "model_dis = Discriminator(params).to(device)\n",
        "model_gen.apply(initialize_weights)\n",
        "model_dis.apply(initialize_weights)"
      ]
    },
    {
      "cell_type": "code",
      "execution_count": null,
      "metadata": {
        "id": "RGHOeWZj6BEe"
      },
      "outputs": [],
      "source": [
        "from torch import optim\n",
        "\n",
        "loss_func=nn.BCELoss()\n",
        "lr=1e-4\n",
        "\n",
        "opt_gen=optim.Adam(model_gen.parameters(),lr=lr)\n",
        "opt_dis=optim.Adam(model_dis.parameters(),lr=lr)"
      ]
    },
    {
      "cell_type": "code",
      "execution_count": null,
      "metadata": {
        "colab": {
          "background_save": true,
          "base_uri": "https://localhost:8080/"
        },
        "id": "MCdHc0FR7q5w",
        "outputId": "0d44cc7a-e70e-4ef5-af73-9e89a0b9c040"
      },
      "outputs": [
        {
          "name": "stdout",
          "output_type": "stream",
          "text": [
            "Epoch : 2, G_loss : 1.4162061214447021, D_loss : 0.14000242948532104, time: 0.57 min\n",
            "Epoch : 4, G_loss : 3.530623197555542, D_loss : 0.03174518421292305, time: 1.14 min\n",
            "Epoch : 6, G_loss : 2.714506149291992, D_loss : 0.11185973882675171, time: 1.70 min\n",
            "Epoch : 8, G_loss : 2.5014750957489014, D_loss : 0.1873202621936798, time: 2.25 min\n",
            "Epoch : 10, G_loss : 2.695328712463379, D_loss : 0.09045510739088058, time: 2.81 min\n",
            "Epoch : 12, G_loss : 3.4724104404449463, D_loss : 0.035340841859579086, time: 3.35 min\n",
            "Epoch : 14, G_loss : 4.418215751647949, D_loss : 0.0201069675385952, time: 3.90 min\n",
            "Epoch : 17, G_loss : 4.519501686096191, D_loss : 0.011566096916794777, time: 4.47 min\n",
            "Epoch : 19, G_loss : 6.014698505401611, D_loss : 0.04052276909351349, time: 5.02 min\n",
            "Epoch : 21, G_loss : 5.298601150512695, D_loss : 0.010164985433220863, time: 5.59 min\n",
            "Epoch : 23, G_loss : 5.153635025024414, D_loss : 0.013114900328218937, time: 6.14 min\n",
            "Epoch : 25, G_loss : 4.849903583526611, D_loss : 0.07472438365221024, time: 6.68 min\n",
            "Epoch : 27, G_loss : 5.075490951538086, D_loss : 0.05652059614658356, time: 7.22 min\n",
            "Epoch : 29, G_loss : 4.738182067871094, D_loss : 0.028795704245567322, time: 7.77 min\n",
            "Epoch : 31, G_loss : 4.190011501312256, D_loss : 0.05728074535727501, time: 8.31 min\n",
            "Epoch : 34, G_loss : 3.3843894004821777, D_loss : 0.09449201822280884, time: 8.85 min\n",
            "Epoch : 36, G_loss : 4.364950180053711, D_loss : 0.1072990819811821, time: 9.39 min\n",
            "Epoch : 38, G_loss : 3.7074332237243652, D_loss : 0.06972193717956543, time: 9.92 min\n",
            "Epoch : 40, G_loss : 2.884983777999878, D_loss : 0.11703619360923767, time: 10.46 min\n",
            "Epoch : 42, G_loss : 3.7652478218078613, D_loss : 0.12275443226099014, time: 11.02 min\n",
            "Epoch : 44, G_loss : 3.621114730834961, D_loss : 0.060040682554244995, time: 11.56 min\n",
            "Epoch : 46, G_loss : 4.391069412231445, D_loss : 0.057617686688899994, time: 12.10 min\n",
            "Epoch : 49, G_loss : 3.4420793056488037, D_loss : 0.127685084939003, time: 12.64 min\n",
            "Epoch : 51, G_loss : 2.84112548828125, D_loss : 0.21016258001327515, time: 13.18 min\n",
            "Epoch : 53, G_loss : 2.882722854614258, D_loss : 0.15613460540771484, time: 13.72 min\n",
            "Epoch : 55, G_loss : 2.8382294178009033, D_loss : 0.1454862654209137, time: 14.26 min\n",
            "Epoch : 57, G_loss : 2.968656539916992, D_loss : 0.2043667882680893, time: 14.80 min\n",
            "Epoch : 59, G_loss : 3.8525702953338623, D_loss : 0.1849692463874817, time: 15.35 min\n",
            "Epoch : 61, G_loss : 3.1535935401916504, D_loss : 0.16966471076011658, time: 15.89 min\n",
            "Epoch : 63, G_loss : 2.5299899578094482, D_loss : 0.3235786259174347, time: 16.43 min\n",
            "Epoch : 66, G_loss : 3.0542426109313965, D_loss : 0.1902780532836914, time: 16.97 min\n",
            "Epoch : 68, G_loss : 4.333417892456055, D_loss : 0.17017430067062378, time: 17.51 min\n",
            "Epoch : 70, G_loss : 3.6676621437072754, D_loss : 0.08718262612819672, time: 18.06 min\n",
            "Epoch : 72, G_loss : 4.55265998840332, D_loss : 0.1087762638926506, time: 18.60 min\n",
            "Epoch : 74, G_loss : 4.343868255615234, D_loss : 0.08824827522039413, time: 19.16 min\n",
            "Epoch : 76, G_loss : 5.375682353973389, D_loss : 0.11526231467723846, time: 19.71 min\n",
            "Epoch : 78, G_loss : 4.867193698883057, D_loss : 0.27029865980148315, time: 20.26 min\n",
            "Epoch : 81, G_loss : 3.8967323303222656, D_loss : 0.12537497282028198, time: 20.82 min\n",
            "Epoch : 83, G_loss : 4.094376564025879, D_loss : 0.1352674961090088, time: 21.36 min\n",
            "Epoch : 85, G_loss : 4.227749824523926, D_loss : 0.13644680380821228, time: 21.91 min\n",
            "Epoch : 87, G_loss : 3.242799997329712, D_loss : 0.11649934947490692, time: 22.46 min\n",
            "Epoch : 89, G_loss : 3.3826518058776855, D_loss : 0.28711074590682983, time: 23.00 min\n",
            "Epoch : 91, G_loss : 3.2439277172088623, D_loss : 0.22464534640312195, time: 23.54 min\n",
            "Epoch : 93, G_loss : 4.068292617797852, D_loss : 0.1611342877149582, time: 24.09 min\n",
            "Epoch : 95, G_loss : 3.9702646732330322, D_loss : 0.22934505343437195, time: 24.62 min\n",
            "Epoch : 98, G_loss : 3.094369888305664, D_loss : 0.22419244050979614, time: 25.17 min\n"
          ]
        }
      ],
      "source": [
        "import time\n",
        "\n",
        "real_label=1\n",
        "fake_label=0\n",
        "num_epochs=100\n",
        "loss_history={'gen':[],'dis':[]}\n",
        "\n",
        "batch_count=0\n",
        "start_time=time.time()\n",
        "model_gen.train()\n",
        "model_dis.train()\n",
        "z=params['z']\n",
        "\n",
        "for epoch in range(num_epochs):\n",
        "  for xb,yb in data_loader:          #trainJ_dl=dataloader\n",
        "    ba_si=xb.size(0)\n",
        "    xb=xb.to(device)      #gpu로 연결해라\n",
        "    yb_real=torch.Tensor(ba_si,1).fill_(1.0).to(device)   \n",
        "    yb_fake=torch.Tensor(ba_si,1).fill_(0.0).to(device)\n",
        "\n",
        "    # Generator\n",
        "    # 파이토치는 학습할때 이전 값에 계속 더해주는 방식이기 때문에 반드시 0으로 초기화 한 후 grad를 계산해야 한다.\n",
        "    model_gen.zero_grad()\n",
        "    noise=torch.randn(ba_si,z,device=device)\n",
        "    out_gen=model_gen(noise)\n",
        "    out_dis=model_dis(out_gen)\n",
        "\n",
        "    loss_gen=loss_func(out_dis,yb_real)\n",
        "    loss_gen.backward()\n",
        "    opt_gen.step()\n",
        "\n",
        "    # Discriminator\n",
        "    model_dis.zero_grad()\n",
        "    out_real=model_dis(xb)\n",
        "    out_fake=model_dis(out_gen.detach())\n",
        "    loss_real=loss_func(out_real,yb_real)\n",
        "    loss_fake=loss_func(out_fake,yb_fake)\n",
        "    loss_dis=(loss_real+loss_fake)/2\n",
        "\n",
        "    loss_dis.backward()\n",
        "    opt_dis.step()\n",
        "\n",
        "    loss_history['gen'].append(loss_gen.item())\n",
        "    loss_history['dis'].append(loss_dis.item())\n",
        "\n",
        "    batch_count+=1\n",
        "    if batch_count%1000==0:\n",
        "      print('Epoch : {}, G_loss : {}, D_loss : {}, time: {:.2f} min'.format(epoch,loss_gen.item(),loss_dis.item(),(time.time()-start_time)/60))"
      ]
    },
    {
      "cell_type": "code",
      "execution_count": null,
      "metadata": {
        "id": "nB3dIcXIMf19"
      },
      "outputs": [],
      "source": [
        "#loss 시각화\n",
        "\n",
        "plt.figure(figsize=(10,5))\n",
        "plt.title('Loss')\n",
        "plt.plot(loss_history['gen'],label='gen loss')\n",
        "plt.plot(loss_history['dis'],label='dis loss')\n",
        "plt.xlabel('batch count')\n",
        "plt.ylabel('loss')\n",
        "plt.legend()\n",
        "plt.show()"
      ]
    },
    {
      "cell_type": "code",
      "execution_count": null,
      "metadata": {
        "colab": {
          "base_uri": "https://localhost:8080/"
        },
        "id": "m1PqGGj1SBSM",
        "outputId": "5f32ac4e-5fc3-4836-b616-94a0781dd0ae"
      },
      "outputs": [
        {
          "data": {
            "text/plain": [
              "torch.Size([16, 1, 28, 28])"
            ]
          },
          "execution_count": 17,
          "metadata": {},
          "output_type": "execute_result"
        }
      ],
      "source": [
        "# 가짜 이미지 시각화\n",
        "with torch.no_grad():\n",
        "  fixed_noise=torch.randn(16, params['z'],device=device)\n",
        "  img_fake=model_gen(fixed_noise).detach().cpu()\n",
        "img_fake.shape"
      ]
    },
    {
      "cell_type": "code",
      "execution_count": null,
      "metadata": {
        "colab": {
          "base_uri": "https://localhost:8080/"
        },
        "id": "YDkrOLxjSsrn",
        "outputId": "cdbbd4dc-e71c-4b0c-a227-3f8577db9aec"
      },
      "outputs": [
        {
          "data": {
            "text/plain": [
              "torch.Size([16, 1, 28, 28])"
            ]
          },
          "execution_count": 20,
          "metadata": {},
          "output_type": "execute_result"
        }
      ],
      "source": [
        "img_fake.shape"
      ]
    },
    {
      "cell_type": "code",
      "execution_count": null,
      "metadata": {
        "colab": {
          "base_uri": "https://localhost:8080/",
          "height": 574
        },
        "id": "8OmaPY34OlJn",
        "outputId": "1ce9e44e-536b-4953-c7d6-ff18340a3d6b"
      },
      "outputs": [
        {
          "data": {
            "image/png": "[encoded data removed]",
            "text/plain": [
              "<Figure size 720x720 with 16 Axes>"
            ]
          },
          "metadata": {},
          "output_type": "display_data"
        }
      ],
      "source": [
        "plt.figure(figsize=(10,10))\n",
        "for i in range(16):\n",
        "    plt.subplot(4,4,i+1)\n",
        "    plt.imshow(to_pil_image(0.5*img_fake[i]+0.5),cmap='gray')\n",
        "    plt.axis('off')"
      ]
    },
    {
      "cell_type": "code",
      "execution_count": null,
      "metadata": {
        "id": "Nzepm3V_Rcu4"
      },
      "outputs": [],
      "source": [
        ""
      ]
    }
  ],
  "metadata": {
    "accelerator": "GPU",
    "colab": {
      "name": "GAN_pytorch.ipynb",
      "provenance": [],
      "authorship_tag": "ABX9TyNCMUCw685lBvbsYjp6t1jE",
      "include_colab_link": true
    },
    "kernelspec": {
      "display_name": "Python 3",
      "name": "python3"
    },
    "language_info": {
      "name": "python"
    },
    "widgets": {
      "application/vnd.jupyter.widget-state+json": {
        "0089b3b9e2dc44cb8866bd7e77099599": {
          "model_module": "@jupyter-widgets/controls",
          "model_module_version": "1.5.0",
          "model_name": "ProgressStyleModel",
          "state": {
            "_model_module": "@jupyter-widgets/controls",
            "_model_module_version": "1.5.0",
            "_model_name": "ProgressStyleModel",
            "_view_count": null,
            "_view_module": "@jupyter-widgets/base",
            "_view_module_version": "1.2.0",
            "_view_name": "StyleView",
            "bar_color": null,
            "description_width": ""
          }
        },
        "08da4747a5b64c11ae919a7f561f851d": {
          "model_module": "@jupyter-widgets/base",
          "model_module_version": "1.2.0",
          "model_name": "LayoutModel",
          "state": {
            "_model_module": "@jupyter-widgets/base",
            "_model_module_version": "1.2.0",
            "_model_name": "LayoutModel",
            "_view_count": null,
            "_view_module": "@jupyter-widgets/base",
            "_view_module_version": "1.2.0",
            "_view_name": "LayoutView",
            "align_content": null,
            "align_items": null,
            "align_self": null,
            "border": null,
            "bottom": null,
            "display": null,
            "flex": null,
            "flex_flow": null,
            "grid_area": null,
            "grid_auto_columns": null,
            "grid_auto_flow": null,
            "grid_auto_rows": null,
            "grid_column": null,
            "grid_gap": null,
            "grid_row": null,
            "grid_template_areas": null,
            "grid_template_columns": null,
            "grid_template_rows": null,
            "height": null,
            "justify_content": null,
            "justify_items": null,
            "left": null,
            "margin": null,
            "max_height": null,
            "max_width": null,
            "min_height": null,
            "min_width": null,
            "object_fit": null,
            "object_position": null,
            "order": null,
            "overflow": null,
            "overflow_x": null,
            "overflow_y": null,
            "padding": null,
            "right": null,
            "top": null,
            "visibility": null,
            "width": null
          }
        },
        "0ad7183ecd5048b1a525a486bf0c7ed2": {
          "model_module": "@jupyter-widgets/base",
          "model_module_version": "1.2.0",
          "model_name": "LayoutModel",
          "state": {
            "_model_module": "@jupyter-widgets/base",
            "_model_module_version": "1.2.0",
            "_model_name": "LayoutModel",
            "_view_count": null,
            "_view_module": "@jupyter-widgets/base",
            "_view_module_version": "1.2.0",
            "_view_name": "LayoutView",
            "align_content": null,
            "align_items": null,
            "align_self": null,
            "border": null,
            "bottom": null,
            "display": null,
            "flex": null,
            "flex_flow": null,
            "grid_area": null,
            "grid_auto_columns": null,
            "grid_auto_flow": null,
            "grid_auto_rows": null,
            "grid_column": null,
            "grid_gap": null,
            "grid_row": null,
            "grid_template_areas": null,
            "grid_template_columns": null,
            "grid_template_rows": null,
            "height": null,
            "justify_content": null,
            "justify_items": null,
            "left": null,
            "margin": null,
            "max_height": null,
            "max_width": null,
            "min_height": null,
            "min_width": null,
            "object_fit": null,
            "object_position": null,
            "order": null,
            "overflow": null,
            "overflow_x": null,
            "overflow_y": null,
            "padding": null,
            "right": null,
            "top": null,
            "visibility": null,
            "width": null
          }
        },
        "0f5eb6cfabc44c9c9de020d7781bcdb0": {
          "model_module": "@jupyter-widgets/controls",
          "model_module_version": "1.5.0",
          "model_name": "DescriptionStyleModel",
          "state": {
            "_model_module": "@jupyter-widgets/controls",
            "_model_module_version": "1.5.0",
            "_model_name": "DescriptionStyleModel",
            "_view_count": null,
            "_view_module": "@jupyter-widgets/base",
            "_view_module_version": "1.2.0",
            "_view_name": "StyleView",
            "description_width": ""
          }
        },
        "13aeac5fb25543769c2eb98e323e585d": {
          "model_module": "@jupyter-widgets/controls",
          "model_module_version": "1.5.0",
          "model_name": "FloatProgressModel",
          "state": {
            "_dom_classes": [],
            "_model_module": "@jupyter-widgets/controls",
            "_model_module_version": "1.5.0",
            "_model_name": "FloatProgressModel",
            "_view_count": null,
            "_view_module": "@jupyter-widgets/controls",
            "_view_module_version": "1.5.0",
            "_view_name": "ProgressView",
            "bar_style": "success",
            "description": "",
            "description_tooltip": null,
            "layout": "IPY_MODEL_695a686e52b844e2a95831f71650d954",
            "max": 28881,
            "min": 0,
            "orientation": "horizontal",
            "style": "IPY_MODEL_0089b3b9e2dc44cb8866bd7e77099599",
            "value": 28881
          }
        },
        "179b911e29bc4e88a5254b6473df2dae": {
          "model_module": "@jupyter-widgets/base",
          "model_module_version": "1.2.0",
          "model_name": "LayoutModel",
          "state": {
            "_model_module": "@jupyter-widgets/base",
            "_model_module_version": "1.2.0",
            "_model_name": "LayoutModel",
            "_view_count": null,
            "_view_module": "@jupyter-widgets/base",
            "_view_module_version": "1.2.0",
            "_view_name": "LayoutView",
            "align_content": null,
            "align_items": null,
            "align_self": null,
            "border": null,
            "bottom": null,
            "display": null,
            "flex": null,
            "flex_flow": null,
            "grid_area": null,
            "grid_auto_columns": null,
            "grid_auto_flow": null,
            "grid_auto_rows": null,
            "grid_column": null,
            "grid_gap": null,
            "grid_row": null,
            "grid_template_areas": null,
            "grid_template_columns": null,
            "grid_template_rows": null,
            "height": null,
            "justify_content": null,
            "justify_items": null,
            "left": null,
            "margin": null,
            "max_height": null,
            "max_width": null,
            "min_height": null,
            "min_width": null,
            "object_fit": null,
            "object_position": null,
            "order": null,
            "overflow": null,
            "overflow_x": null,
            "overflow_y": null,
            "padding": null,
            "right": null,
            "top": null,
            "visibility": null,
            "width": null
          }
        },
        "1819859431d8491592b63d1ab19083d5": {
          "model_module": "@jupyter-widgets/controls",
          "model_module_version": "1.5.0",
          "model_name": "FloatProgressModel",
          "state": {
            "_dom_classes": [],
            "_model_module": "@jupyter-widgets/controls",
            "_model_module_version": "1.5.0",
            "_model_name": "FloatProgressModel",
            "_view_count": null,
            "_view_module": "@jupyter-widgets/controls",
            "_view_module_version": "1.5.0",
            "_view_name": "ProgressView",
            "bar_style": "success",
            "description": "",
            "description_tooltip": null,
            "layout": "IPY_MODEL_8fba19f493de4a6d80b0652ca0958603",
            "max": 9912422,
            "min": 0,
            "orientation": "horizontal",
            "style": "IPY_MODEL_52e7436c718843e397c7b8f4f2f1fd2b",
            "value": 9912422
          }
        },
        "1eb22cea7d614048a4ad5f3762829cb3": {
          "model_module": "@jupyter-widgets/controls",
          "model_module_version": "1.5.0",
          "model_name": "DescriptionStyleModel",
          "state": {
            "_model_module": "@jupyter-widgets/controls",
            "_model_module_version": "1.5.0",
            "_model_name": "DescriptionStyleModel",
            "_view_count": null,
            "_view_module": "@jupyter-widgets/base",
            "_view_module_version": "1.2.0",
            "_view_name": "StyleView",
            "description_width": ""
          }
        },
        "2d6b7f13747e4cff98676c188b43b206": {
          "model_module": "@jupyter-widgets/controls",
          "model_module_version": "1.5.0",
          "model_name": "HTMLModel",
          "state": {
            "_dom_classes": [],
            "_model_module": "@jupyter-widgets/controls",
            "_model_module_version": "1.5.0",
            "_model_name": "HTMLModel",
            "_view_count": null,
            "_view_module": "@jupyter-widgets/controls",
            "_view_module_version": "1.5.0",
            "_view_name": "HTMLView",
            "description": "",
            "description_tooltip": null,
            "layout": "IPY_MODEL_719a23a6e5de474cb9dbcba9be895a49",
            "placeholder": "​",
            "style": "IPY_MODEL_fe2d87c4834849419fcff3486d9a6b66",
            "value": ""
          }
        },
        "31dd68d741944470a41c8a7358880efb": {
          "model_module": "@jupyter-widgets/controls",
          "model_module_version": "1.5.0",
          "model_name": "HTMLModel",
          "state": {
            "_dom_classes": [],
            "_model_module": "@jupyter-widgets/controls",
            "_model_module_version": "1.5.0",
            "_model_name": "HTMLModel",
            "_view_count": null,
            "_view_module": "@jupyter-widgets/controls",
            "_view_module_version": "1.5.0",
            "_view_name": "HTMLView",
            "description": "",
            "description_tooltip": null,
            "layout": "IPY_MODEL_b22a68c58db54b3d99060a18f853cf01",
            "placeholder": "​",
            "style": "IPY_MODEL_c0f0b48ee26a40d5873378089dea7076",
            "value": " 29696/? [00:00&lt;00:00, 868008.78it/s]"
          }
        },
        "3707f01b075c4f9cad763ba561d83e52": {
          "model_module": "@jupyter-widgets/controls",
          "model_module_version": "1.5.0",
          "model_name": "ProgressStyleModel",
          "state": {
            "_model_module": "@jupyter-widgets/controls",
            "_model_module_version": "1.5.0",
            "_model_name": "ProgressStyleModel",
            "_view_count": null,
            "_view_module": "@jupyter-widgets/base",
            "_view_module_version": "1.2.0",
            "_view_name": "StyleView",
            "bar_color": null,
            "description_width": ""
          }
        },
        "37e2223de4714a11a8a1cb041ff1d02a": {
          "model_module": "@jupyter-widgets/controls",
          "model_module_version": "1.5.0",
          "model_name": "DescriptionStyleModel",
          "state": {
            "_model_module": "@jupyter-widgets/controls",
            "_model_module_version": "1.5.0",
            "_model_name": "DescriptionStyleModel",
            "_view_count": null,
            "_view_module": "@jupyter-widgets/base",
            "_view_module_version": "1.2.0",
            "_view_name": "StyleView",
            "description_width": ""
          }
        },
        "4224c0a755f94668a183de8924f13d95": {
          "model_module": "@jupyter-widgets/controls",
          "model_module_version": "1.5.0",
          "model_name": "FloatProgressModel",
          "state": {
            "_dom_classes": [],
            "_model_module": "@jupyter-widgets/controls",
            "_model_module_version": "1.5.0",
            "_model_name": "FloatProgressModel",
            "_view_count": null,
            "_view_module": "@jupyter-widgets/controls",
            "_view_module_version": "1.5.0",
            "_view_name": "ProgressView",
            "bar_style": "success",
            "description": "",
            "description_tooltip": null,
            "layout": "IPY_MODEL_b2c0f40828b04fcb98d0ecaf8f6202cc",
            "max": 1648877,
            "min": 0,
            "orientation": "horizontal",
            "style": "IPY_MODEL_75fa00431fa0477e81ffa75c9d2e9816",
            "value": 1648877
          }
        },
        "42cae830d6db4aeba92df57becfd5df5": {
          "model_module": "@jupyter-widgets/base",
          "model_module_version": "1.2.0",
          "model_name": "LayoutModel",
          "state": {
            "_model_module": "@jupyter-widgets/base",
            "_model_module_version": "1.2.0",
            "_model_name": "LayoutModel",
            "_view_count": null,
            "_view_module": "@jupyter-widgets/base",
            "_view_module_version": "1.2.0",
            "_view_name": "LayoutView",
            "align_content": null,
            "align_items": null,
            "align_self": null,
            "border": null,
            "bottom": null,
            "display": null,
            "flex": null,
            "flex_flow": null,
            "grid_area": null,
            "grid_auto_columns": null,
            "grid_auto_flow": null,
            "grid_auto_rows": null,
            "grid_column": null,
            "grid_gap": null,
            "grid_row": null,
            "grid_template_areas": null,
            "grid_template_columns": null,
            "grid_template_rows": null,
            "height": null,
            "justify_content": null,
            "justify_items": null,
            "left": null,
            "margin": null,
            "max_height": null,
            "max_width": null,
            "min_height": null,
            "min_width": null,
            "object_fit": null,
            "object_position": null,
            "order": null,
            "overflow": null,
            "overflow_x": null,
            "overflow_y": null,
            "padding": null,
            "right": null,
            "top": null,
            "visibility": null,
            "width": null
          }
        },
        "443373627bb9419e97fd99c9694086f1": {
          "model_module": "@jupyter-widgets/base",
          "model_module_version": "1.2.0",
          "model_name": "LayoutModel",
          "state": {
            "_model_module": "@jupyter-widgets/base",
            "_model_module_version": "1.2.0",
            "_model_name": "LayoutModel",
            "_view_count": null,
            "_view_module": "@jupyter-widgets/base",
            "_view_module_version": "1.2.0",
            "_view_name": "LayoutView",
            "align_content": null,
            "align_items": null,
            "align_self": null,
            "border": null,
            "bottom": null,
            "display": null,
            "flex": null,
            "flex_flow": null,
            "grid_area": null,
            "grid_auto_columns": null,
            "grid_auto_flow": null,
            "grid_auto_rows": null,
            "grid_column": null,
            "grid_gap": null,
            "grid_row": null,
            "grid_template_areas": null,
            "grid_template_columns": null,
            "grid_template_rows": null,
            "height": null,
            "justify_content": null,
            "justify_items": null,
            "left": null,
            "margin": null,
            "max_height": null,
            "max_width": null,
            "min_height": null,
            "min_width": null,
            "object_fit": null,
            "object_position": null,
            "order": null,
            "overflow": null,
            "overflow_x": null,
            "overflow_y": null,
            "padding": null,
            "right": null,
            "top": null,
            "visibility": null,
            "width": null
          }
        },
        "4d2df7082cb64dfa87d2fbdd742540ff": {
          "model_module": "@jupyter-widgets/controls",
          "model_module_version": "1.5.0",
          "model_name": "HBoxModel",
          "state": {
            "_dom_classes": [],
            "_model_module": "@jupyter-widgets/controls",
            "_model_module_version": "1.5.0",
            "_model_name": "HBoxModel",
            "_view_count": null,
            "_view_module": "@jupyter-widgets/controls",
            "_view_module_version": "1.5.0",
            "_view_name": "HBoxView",
            "box_style": "",
            "children": [
              "IPY_MODEL_58452222e4b540d79872c38660fe39c6",
              "IPY_MODEL_e351e80d72a7402bbfaafef208d75e72",
              "IPY_MODEL_b3b4670e5a784af88757e89379f2f22f"
            ],
            "layout": "IPY_MODEL_08da4747a5b64c11ae919a7f561f851d"
          }
        },
        "4ee225e16a75462d9b0ea3b873aefe8c": {
          "model_module": "@jupyter-widgets/controls",
          "model_module_version": "1.5.0",
          "model_name": "HBoxModel",
          "state": {
            "_dom_classes": [],
            "_model_module": "@jupyter-widgets/controls",
            "_model_module_version": "1.5.0",
            "_model_name": "HBoxModel",
            "_view_count": null,
            "_view_module": "@jupyter-widgets/controls",
            "_view_module_version": "1.5.0",
            "_view_name": "HBoxView",
            "box_style": "",
            "children": [
              "IPY_MODEL_c087f664192e4ce0a60fd92db7affd73",
              "IPY_MODEL_1819859431d8491592b63d1ab19083d5",
              "IPY_MODEL_ecfdb1f6b4d64643b2b75bccfd4a776a"
            ],
            "layout": "IPY_MODEL_57c5b1aa491d496d9bba69ef139194d4"
          }
        },
        "52e7436c718843e397c7b8f4f2f1fd2b": {
          "model_module": "@jupyter-widgets/controls",
          "model_module_version": "1.5.0",
          "model_name": "ProgressStyleModel",
          "state": {
            "_model_module": "@jupyter-widgets/controls",
            "_model_module_version": "1.5.0",
            "_model_name": "ProgressStyleModel",
            "_view_count": null,
            "_view_module": "@jupyter-widgets/base",
            "_view_module_version": "1.2.0",
            "_view_name": "StyleView",
            "bar_color": null,
            "description_width": ""
          }
        },
        "57c5b1aa491d496d9bba69ef139194d4": {
          "model_module": "@jupyter-widgets/base",
          "model_module_version": "1.2.0",
          "model_name": "LayoutModel",
          "state": {
            "_model_module": "@jupyter-widgets/base",
            "_model_module_version": "1.2.0",
            "_model_name": "LayoutModel",
            "_view_count": null,
            "_view_module": "@jupyter-widgets/base",
            "_view_module_version": "1.2.0",
            "_view_name": "LayoutView",
            "align_content": null,
            "align_items": null,
            "align_self": null,
            "border": null,
            "bottom": null,
            "display": null,
            "flex": null,
            "flex_flow": null,
            "grid_area": null,
            "grid_auto_columns": null,
            "grid_auto_flow": null,
            "grid_auto_rows": null,
            "grid_column": null,
            "grid_gap": null,
            "grid_row": null,
            "grid_template_areas": null,
            "grid_template_columns": null,
            "grid_template_rows": null,
            "height": null,
            "justify_content": null,
            "justify_items": null,
            "left": null,
            "margin": null,
            "max_height": null,
            "max_width": null,
            "min_height": null,
            "min_width": null,
            "object_fit": null,
            "object_position": null,
            "order": null,
            "overflow": null,
            "overflow_x": null,
            "overflow_y": null,
            "padding": null,
            "right": null,
            "top": null,
            "visibility": null,
            "width": null
          }
        },
        "58452222e4b540d79872c38660fe39c6": {
          "model_module": "@jupyter-widgets/controls",
          "model_module_version": "1.5.0",
          "model_name": "HTMLModel",
          "state": {
            "_dom_classes": [],
            "_model_module": "@jupyter-widgets/controls",
            "_model_module_version": "1.5.0",
            "_model_name": "HTMLModel",
            "_view_count": null,
            "_view_module": "@jupyter-widgets/controls",
            "_view_module_version": "1.5.0",
            "_view_name": "HTMLView",
            "description": "",
            "description_tooltip": null,
            "layout": "IPY_MODEL_ce0cbd1f28b94c60a545a920609cf72c",
            "placeholder": "​",
            "style": "IPY_MODEL_ac798fa224094b95b621231e50d1d083",
            "value": ""
          }
        },
        "687e35a8c8a342e79e8491bf62ac0ac8": {
          "model_module": "@jupyter-widgets/controls",
          "model_module_version": "1.5.0",
          "model_name": "HBoxModel",
          "state": {
            "_dom_classes": [],
            "_model_module": "@jupyter-widgets/controls",
            "_model_module_version": "1.5.0",
            "_model_name": "HBoxModel",
            "_view_count": null,
            "_view_module": "@jupyter-widgets/controls",
            "_view_module_version": "1.5.0",
            "_view_name": "HBoxView",
            "box_style": "",
            "children": [
              "IPY_MODEL_d9bac9b7fa554a888436055c2b0b9443",
              "IPY_MODEL_13aeac5fb25543769c2eb98e323e585d",
              "IPY_MODEL_31dd68d741944470a41c8a7358880efb"
            ],
            "layout": "IPY_MODEL_179b911e29bc4e88a5254b6473df2dae"
          }
        },
        "695a686e52b844e2a95831f71650d954": {
          "model_module": "@jupyter-widgets/base",
          "model_module_version": "1.2.0",
          "model_name": "LayoutModel",
          "state": {
            "_model_module": "@jupyter-widgets/base",
            "_model_module_version": "1.2.0",
            "_model_name": "LayoutModel",
            "_view_count": null,
            "_view_module": "@jupyter-widgets/base",
            "_view_module_version": "1.2.0",
            "_view_name": "LayoutView",
            "align_content": null,
            "align_items": null,
            "align_self": null,
            "border": null,
            "bottom": null,
            "display": null,
            "flex": null,
            "flex_flow": null,
            "grid_area": null,
            "grid_auto_columns": null,
            "grid_auto_flow": null,
            "grid_auto_rows": null,
            "grid_column": null,
            "grid_gap": null,
            "grid_row": null,
            "grid_template_areas": null,
            "grid_template_columns": null,
            "grid_template_rows": null,
            "height": null,
            "justify_content": null,
            "justify_items": null,
            "left": null,
            "margin": null,
            "max_height": null,
            "max_width": null,
            "min_height": null,
            "min_width": null,
            "object_fit": null,
            "object_position": null,
            "order": null,
            "overflow": null,
            "overflow_x": null,
            "overflow_y": null,
            "padding": null,
            "right": null,
            "top": null,
            "visibility": null,
            "width": null
          }
        },
        "719a23a6e5de474cb9dbcba9be895a49": {
          "model_module": "@jupyter-widgets/base",
          "model_module_version": "1.2.0",
          "model_name": "LayoutModel",
          "state": {
            "_model_module": "@jupyter-widgets/base",
            "_model_module_version": "1.2.0",
            "_model_name": "LayoutModel",
            "_view_count": null,
            "_view_module": "@jupyter-widgets/base",
            "_view_module_version": "1.2.0",
            "_view_name": "LayoutView",
            "align_content": null,
            "align_items": null,
            "align_self": null,
            "border": null,
            "bottom": null,
            "display": null,
            "flex": null,
            "flex_flow": null,
            "grid_area": null,
            "grid_auto_columns": null,
            "grid_auto_flow": null,
            "grid_auto_rows": null,
            "grid_column": null,
            "grid_gap": null,
            "grid_row": null,
            "grid_template_areas": null,
            "grid_template_columns": null,
            "grid_template_rows": null,
            "height": null,
            "justify_content": null,
            "justify_items": null,
            "left": null,
            "margin": null,
            "max_height": null,
            "max_width": null,
            "min_height": null,
            "min_width": null,
            "object_fit": null,
            "object_position": null,
            "order": null,
            "overflow": null,
            "overflow_x": null,
            "overflow_y": null,
            "padding": null,
            "right": null,
            "top": null,
            "visibility": null,
            "width": null
          }
        },
        "73caa70c95e24760975ec368f0b65f4c": {
          "model_module": "@jupyter-widgets/controls",
          "model_module_version": "1.5.0",
          "model_name": "HBoxModel",
          "state": {
            "_dom_classes": [],
            "_model_module": "@jupyter-widgets/controls",
            "_model_module_version": "1.5.0",
            "_model_name": "HBoxModel",
            "_view_count": null,
            "_view_module": "@jupyter-widgets/controls",
            "_view_module_version": "1.5.0",
            "_view_name": "HBoxView",
            "box_style": "",
            "children": [
              "IPY_MODEL_2d6b7f13747e4cff98676c188b43b206",
              "IPY_MODEL_4224c0a755f94668a183de8924f13d95",
              "IPY_MODEL_b3ebcb04bb544b8b84580139bf9424ca"
            ],
            "layout": "IPY_MODEL_42cae830d6db4aeba92df57becfd5df5"
          }
        },
        "75fa00431fa0477e81ffa75c9d2e9816": {
          "model_module": "@jupyter-widgets/controls",
          "model_module_version": "1.5.0",
          "model_name": "ProgressStyleModel",
          "state": {
            "_model_module": "@jupyter-widgets/controls",
            "_model_module_version": "1.5.0",
            "_model_name": "ProgressStyleModel",
            "_view_count": null,
            "_view_module": "@jupyter-widgets/base",
            "_view_module_version": "1.2.0",
            "_view_name": "StyleView",
            "bar_color": null,
            "description_width": ""
          }
        },
        "8fba19f493de4a6d80b0652ca0958603": {
          "model_module": "@jupyter-widgets/base",
          "model_module_version": "1.2.0",
          "model_name": "LayoutModel",
          "state": {
            "_model_module": "@jupyter-widgets/base",
            "_model_module_version": "1.2.0",
            "_model_name": "LayoutModel",
            "_view_count": null,
            "_view_module": "@jupyter-widgets/base",
            "_view_module_version": "1.2.0",
            "_view_name": "LayoutView",
            "align_content": null,
            "align_items": null,
            "align_self": null,
            "border": null,
            "bottom": null,
            "display": null,
            "flex": null,
            "flex_flow": null,
            "grid_area": null,
            "grid_auto_columns": null,
            "grid_auto_flow": null,
            "grid_auto_rows": null,
            "grid_column": null,
            "grid_gap": null,
            "grid_row": null,
            "grid_template_areas": null,
            "grid_template_columns": null,
            "grid_template_rows": null,
            "height": null,
            "justify_content": null,
            "justify_items": null,
            "left": null,
            "margin": null,
            "max_height": null,
            "max_width": null,
            "min_height": null,
            "min_width": null,
            "object_fit": null,
            "object_position": null,
            "order": null,
            "overflow": null,
            "overflow_x": null,
            "overflow_y": null,
            "padding": null,
            "right": null,
            "top": null,
            "visibility": null,
            "width": null
          }
        },
        "9302c414942b49d5a97f38f482c086fd": {
          "model_module": "@jupyter-widgets/controls",
          "model_module_version": "1.5.0",
          "model_name": "DescriptionStyleModel",
          "state": {
            "_model_module": "@jupyter-widgets/controls",
            "_model_module_version": "1.5.0",
            "_model_name": "DescriptionStyleModel",
            "_view_count": null,
            "_view_module": "@jupyter-widgets/base",
            "_view_module_version": "1.2.0",
            "_view_name": "StyleView",
            "description_width": ""
          }
        },
        "974a87c280d5444dbe02c9dbd1cfa941": {
          "model_module": "@jupyter-widgets/base",
          "model_module_version": "1.2.0",
          "model_name": "LayoutModel",
          "state": {
            "_model_module": "@jupyter-widgets/base",
            "_model_module_version": "1.2.0",
            "_model_name": "LayoutModel",
            "_view_count": null,
            "_view_module": "@jupyter-widgets/base",
            "_view_module_version": "1.2.0",
            "_view_name": "LayoutView",
            "align_content": null,
            "align_items": null,
            "align_self": null,
            "border": null,
            "bottom": null,
            "display": null,
            "flex": null,
            "flex_flow": null,
            "grid_area": null,
            "grid_auto_columns": null,
            "grid_auto_flow": null,
            "grid_auto_rows": null,
            "grid_column": null,
            "grid_gap": null,
            "grid_row": null,
            "grid_template_areas": null,
            "grid_template_columns": null,
            "grid_template_rows": null,
            "height": null,
            "justify_content": null,
            "justify_items": null,
            "left": null,
            "margin": null,
            "max_height": null,
            "max_width": null,
            "min_height": null,
            "min_width": null,
            "object_fit": null,
            "object_position": null,
            "order": null,
            "overflow": null,
            "overflow_x": null,
            "overflow_y": null,
            "padding": null,
            "right": null,
            "top": null,
            "visibility": null,
            "width": null
          }
        },
        "ac798fa224094b95b621231e50d1d083": {
          "model_module": "@jupyter-widgets/controls",
          "model_module_version": "1.5.0",
          "model_name": "DescriptionStyleModel",
          "state": {
            "_model_module": "@jupyter-widgets/controls",
            "_model_module_version": "1.5.0",
            "_model_name": "DescriptionStyleModel",
            "_view_count": null,
            "_view_module": "@jupyter-widgets/base",
            "_view_module_version": "1.2.0",
            "_view_name": "StyleView",
            "description_width": ""
          }
        },
        "b097c8a94adf440c8166d906e31ea4d0": {
          "model_module": "@jupyter-widgets/base",
          "model_module_version": "1.2.0",
          "model_name": "LayoutModel",
          "state": {
            "_model_module": "@jupyter-widgets/base",
            "_model_module_version": "1.2.0",
            "_model_name": "LayoutModel",
            "_view_count": null,
            "_view_module": "@jupyter-widgets/base",
            "_view_module_version": "1.2.0",
            "_view_name": "LayoutView",
            "align_content": null,
            "align_items": null,
            "align_self": null,
            "border": null,
            "bottom": null,
            "display": null,
            "flex": null,
            "flex_flow": null,
            "grid_area": null,
            "grid_auto_columns": null,
            "grid_auto_flow": null,
            "grid_auto_rows": null,
            "grid_column": null,
            "grid_gap": null,
            "grid_row": null,
            "grid_template_areas": null,
            "grid_template_columns": null,
            "grid_template_rows": null,
            "height": null,
            "justify_content": null,
            "justify_items": null,
            "left": null,
            "margin": null,
            "max_height": null,
            "max_width": null,
            "min_height": null,
            "min_width": null,
            "object_fit": null,
            "object_position": null,
            "order": null,
            "overflow": null,
            "overflow_x": null,
            "overflow_y": null,
            "padding": null,
            "right": null,
            "top": null,
            "visibility": null,
            "width": null
          }
        },
        "b22a68c58db54b3d99060a18f853cf01": {
          "model_module": "@jupyter-widgets/base",
          "model_module_version": "1.2.0",
          "model_name": "LayoutModel",
          "state": {
            "_model_module": "@jupyter-widgets/base",
            "_model_module_version": "1.2.0",
            "_model_name": "LayoutModel",
            "_view_count": null,
            "_view_module": "@jupyter-widgets/base",
            "_view_module_version": "1.2.0",
            "_view_name": "LayoutView",
            "align_content": null,
            "align_items": null,
            "align_self": null,
            "border": null,
            "bottom": null,
            "display": null,
            "flex": null,
            "flex_flow": null,
            "grid_area": null,
            "grid_auto_columns": null,
            "grid_auto_flow": null,
            "grid_auto_rows": null,
            "grid_column": null,
            "grid_gap": null,
            "grid_row": null,
            "grid_template_areas": null,
            "grid_template_columns": null,
            "grid_template_rows": null,
            "height": null,
            "justify_content": null,
            "justify_items": null,
            "left": null,
            "margin": null,
            "max_height": null,
            "max_width": null,
            "min_height": null,
            "min_width": null,
            "object_fit": null,
            "object_position": null,
            "order": null,
            "overflow": null,
            "overflow_x": null,
            "overflow_y": null,
            "padding": null,
            "right": null,
            "top": null,
            "visibility": null,
            "width": null
          }
        },
        "b2c0f40828b04fcb98d0ecaf8f6202cc": {
          "model_module": "@jupyter-widgets/base",
          "model_module_version": "1.2.0",
          "model_name": "LayoutModel",
          "state": {
            "_model_module": "@jupyter-widgets/base",
            "_model_module_version": "1.2.0",
            "_model_name": "LayoutModel",
            "_view_count": null,
            "_view_module": "@jupyter-widgets/base",
            "_view_module_version": "1.2.0",
            "_view_name": "LayoutView",
            "align_content": null,
            "align_items": null,
            "align_self": null,
            "border": null,
            "bottom": null,
            "display": null,
            "flex": null,
            "flex_flow": null,
            "grid_area": null,
            "grid_auto_columns": null,
            "grid_auto_flow": null,
            "grid_auto_rows": null,
            "grid_column": null,
            "grid_gap": null,
            "grid_row": null,
            "grid_template_areas": null,
            "grid_template_columns": null,
            "grid_template_rows": null,
            "height": null,
            "justify_content": null,
            "justify_items": null,
            "left": null,
            "margin": null,
            "max_height": null,
            "max_width": null,
            "min_height": null,
            "min_width": null,
            "object_fit": null,
            "object_position": null,
            "order": null,
            "overflow": null,
            "overflow_x": null,
            "overflow_y": null,
            "padding": null,
            "right": null,
            "top": null,
            "visibility": null,
            "width": null
          }
        },
        "b3b4670e5a784af88757e89379f2f22f": {
          "model_module": "@jupyter-widgets/controls",
          "model_module_version": "1.5.0",
          "model_name": "HTMLModel",
          "state": {
            "_dom_classes": [],
            "_model_module": "@jupyter-widgets/controls",
            "_model_module_version": "1.5.0",
            "_model_name": "HTMLModel",
            "_view_count": null,
            "_view_module": "@jupyter-widgets/controls",
            "_view_module_version": "1.5.0",
            "_view_name": "HTMLView",
            "description": "",
            "description_tooltip": null,
            "layout": "IPY_MODEL_fb4aec9308714aa2879ca5dfb67a8605",
            "placeholder": "​",
            "style": "IPY_MODEL_0f5eb6cfabc44c9c9de020d7781bcdb0",
            "value": " 5120/? [00:00&lt;00:00, 174020.59it/s]"
          }
        },
        "b3ebcb04bb544b8b84580139bf9424ca": {
          "model_module": "@jupyter-widgets/controls",
          "model_module_version": "1.5.0",
          "model_name": "HTMLModel",
          "state": {
            "_dom_classes": [],
            "_model_module": "@jupyter-widgets/controls",
            "_model_module_version": "1.5.0",
            "_model_name": "HTMLModel",
            "_view_count": null,
            "_view_module": "@jupyter-widgets/controls",
            "_view_module_version": "1.5.0",
            "_view_name": "HTMLView",
            "description": "",
            "description_tooltip": null,
            "layout": "IPY_MODEL_c23d87435d4442768138d44a836da3c9",
            "placeholder": "​",
            "style": "IPY_MODEL_cf12b6a865a443169ef5534448584235",
            "value": " 1649664/? [00:00&lt;00:00, 33744256.53it/s]"
          }
        },
        "c087f664192e4ce0a60fd92db7affd73": {
          "model_module": "@jupyter-widgets/controls",
          "model_module_version": "1.5.0",
          "model_name": "HTMLModel",
          "state": {
            "_dom_classes": [],
            "_model_module": "@jupyter-widgets/controls",
            "_model_module_version": "1.5.0",
            "_model_name": "HTMLModel",
            "_view_count": null,
            "_view_module": "@jupyter-widgets/controls",
            "_view_module_version": "1.5.0",
            "_view_name": "HTMLView",
            "description": "",
            "description_tooltip": null,
            "layout": "IPY_MODEL_b097c8a94adf440c8166d906e31ea4d0",
            "placeholder": "​",
            "style": "IPY_MODEL_9302c414942b49d5a97f38f482c086fd",
            "value": ""
          }
        },
        "c0f0b48ee26a40d5873378089dea7076": {
          "model_module": "@jupyter-widgets/controls",
          "model_module_version": "1.5.0",
          "model_name": "DescriptionStyleModel",
          "state": {
            "_model_module": "@jupyter-widgets/controls",
            "_model_module_version": "1.5.0",
            "_model_name": "DescriptionStyleModel",
            "_view_count": null,
            "_view_module": "@jupyter-widgets/base",
            "_view_module_version": "1.2.0",
            "_view_name": "StyleView",
            "description_width": ""
          }
        },
        "c23d87435d4442768138d44a836da3c9": {
          "model_module": "@jupyter-widgets/base",
          "model_module_version": "1.2.0",
          "model_name": "LayoutModel",
          "state": {
            "_model_module": "@jupyter-widgets/base",
            "_model_module_version": "1.2.0",
            "_model_name": "LayoutModel",
            "_view_count": null,
            "_view_module": "@jupyter-widgets/base",
            "_view_module_version": "1.2.0",
            "_view_name": "LayoutView",
            "align_content": null,
            "align_items": null,
            "align_self": null,
            "border": null,
            "bottom": null,
            "display": null,
            "flex": null,
            "flex_flow": null,
            "grid_area": null,
            "grid_auto_columns": null,
            "grid_auto_flow": null,
            "grid_auto_rows": null,
            "grid_column": null,
            "grid_gap": null,
            "grid_row": null,
            "grid_template_areas": null,
            "grid_template_columns": null,
            "grid_template_rows": null,
            "height": null,
            "justify_content": null,
            "justify_items": null,
            "left": null,
            "margin": null,
            "max_height": null,
            "max_width": null,
            "min_height": null,
            "min_width": null,
            "object_fit": null,
            "object_position": null,
            "order": null,
            "overflow": null,
            "overflow_x": null,
            "overflow_y": null,
            "padding": null,
            "right": null,
            "top": null,
            "visibility": null,
            "width": null
          }
        },
        "ce0cbd1f28b94c60a545a920609cf72c": {
          "model_module": "@jupyter-widgets/base",
          "model_module_version": "1.2.0",
          "model_name": "LayoutModel",
          "state": {
            "_model_module": "@jupyter-widgets/base",
            "_model_module_version": "1.2.0",
            "_model_name": "LayoutModel",
            "_view_count": null,
            "_view_module": "@jupyter-widgets/base",
            "_view_module_version": "1.2.0",
            "_view_name": "LayoutView",
            "align_content": null,
            "align_items": null,
            "align_self": null,
            "border": null,
            "bottom": null,
            "display": null,
            "flex": null,
            "flex_flow": null,
            "grid_area": null,
            "grid_auto_columns": null,
            "grid_auto_flow": null,
            "grid_auto_rows": null,
            "grid_column": null,
            "grid_gap": null,
            "grid_row": null,
            "grid_template_areas": null,
            "grid_template_columns": null,
            "grid_template_rows": null,
            "height": null,
            "justify_content": null,
            "justify_items": null,
            "left": null,
            "margin": null,
            "max_height": null,
            "max_width": null,
            "min_height": null,
            "min_width": null,
            "object_fit": null,
            "object_position": null,
            "order": null,
            "overflow": null,
            "overflow_x": null,
            "overflow_y": null,
            "padding": null,
            "right": null,
            "top": null,
            "visibility": null,
            "width": null
          }
        },
        "cf12b6a865a443169ef5534448584235": {
          "model_module": "@jupyter-widgets/controls",
          "model_module_version": "1.5.0",
          "model_name": "DescriptionStyleModel",
          "state": {
            "_model_module": "@jupyter-widgets/controls",
            "_model_module_version": "1.5.0",
            "_model_name": "DescriptionStyleModel",
            "_view_count": null,
            "_view_module": "@jupyter-widgets/base",
            "_view_module_version": "1.2.0",
            "_view_name": "StyleView",
            "description_width": ""
          }
        },
        "d9bac9b7fa554a888436055c2b0b9443": {
          "model_module": "@jupyter-widgets/controls",
          "model_module_version": "1.5.0",
          "model_name": "HTMLModel",
          "state": {
            "_dom_classes": [],
            "_model_module": "@jupyter-widgets/controls",
            "_model_module_version": "1.5.0",
            "_model_name": "HTMLModel",
            "_view_count": null,
            "_view_module": "@jupyter-widgets/controls",
            "_view_module_version": "1.5.0",
            "_view_name": "HTMLView",
            "description": "",
            "description_tooltip": null,
            "layout": "IPY_MODEL_974a87c280d5444dbe02c9dbd1cfa941",
            "placeholder": "​",
            "style": "IPY_MODEL_1eb22cea7d614048a4ad5f3762829cb3",
            "value": ""
          }
        },
        "e351e80d72a7402bbfaafef208d75e72": {
          "model_module": "@jupyter-widgets/controls",
          "model_module_version": "1.5.0",
          "model_name": "FloatProgressModel",
          "state": {
            "_dom_classes": [],
            "_model_module": "@jupyter-widgets/controls",
            "_model_module_version": "1.5.0",
            "_model_name": "FloatProgressModel",
            "_view_count": null,
            "_view_module": "@jupyter-widgets/controls",
            "_view_module_version": "1.5.0",
            "_view_name": "ProgressView",
            "bar_style": "success",
            "description": "",
            "description_tooltip": null,
            "layout": "IPY_MODEL_0ad7183ecd5048b1a525a486bf0c7ed2",
            "max": 4542,
            "min": 0,
            "orientation": "horizontal",
            "style": "IPY_MODEL_3707f01b075c4f9cad763ba561d83e52",
            "value": 4542
          }
        },
        "ecfdb1f6b4d64643b2b75bccfd4a776a": {
          "model_module": "@jupyter-widgets/controls",
          "model_module_version": "1.5.0",
          "model_name": "HTMLModel",
          "state": {
            "_dom_classes": [],
            "_model_module": "@jupyter-widgets/controls",
            "_model_module_version": "1.5.0",
            "_model_name": "HTMLModel",
            "_view_count": null,
            "_view_module": "@jupyter-widgets/controls",
            "_view_module_version": "1.5.0",
            "_view_name": "HTMLView",
            "description": "",
            "description_tooltip": null,
            "layout": "IPY_MODEL_443373627bb9419e97fd99c9694086f1",
            "placeholder": "​",
            "style": "IPY_MODEL_37e2223de4714a11a8a1cb041ff1d02a",
            "value": " 9913344/? [00:00&lt;00:00, 84391319.53it/s]"
          }
        },
        "fb4aec9308714aa2879ca5dfb67a8605": {
          "model_module": "@jupyter-widgets/base",
          "model_module_version": "1.2.0",
          "model_name": "LayoutModel",
          "state": {
            "_model_module": "@jupyter-widgets/base",
            "_model_module_version": "1.2.0",
            "_model_name": "LayoutModel",
            "_view_count": null,
            "_view_module": "@jupyter-widgets/base",
            "_view_module_version": "1.2.0",
            "_view_name": "LayoutView",
            "align_content": null,
            "align_items": null,
            "align_self": null,
            "border": null,
            "bottom": null,
            "display": null,
            "flex": null,
            "flex_flow": null,
            "grid_area": null,
            "grid_auto_columns": null,
            "grid_auto_flow": null,
            "grid_auto_rows": null,
            "grid_column": null,
            "grid_gap": null,
            "grid_row": null,
            "grid_template_areas": null,
            "grid_template_columns": null,
            "grid_template_rows": null,
            "height": null,
            "justify_content": null,
            "justify_items": null,
            "left": null,
            "margin": null,
            "max_height": null,
            "max_width": null,
            "min_height": null,
            "min_width": null,
            "object_fit": null,
            "object_position": null,
            "order": null,
            "overflow": null,
            "overflow_x": null,
            "overflow_y": null,
            "padding": null,
            "right": null,
            "top": null,
            "visibility": null,
            "width": null
          }
        },
        "fe2d87c4834849419fcff3486d9a6b66": {
          "model_module": "@jupyter-widgets/controls",
          "model_module_version": "1.5.0",
          "model_name": "DescriptionStyleModel",
          "state": {
            "_model_module": "@jupyter-widgets/controls",
            "_model_module_version": "1.5.0",
            "_model_name": "DescriptionStyleModel",
            "_view_count": null,
            "_view_module": "@jupyter-widgets/base",
            "_view_module_version": "1.2.0",
            "_view_name": "StyleView",
            "description_width": ""
          }
        }
      }
    }
  },
  "nbformat": 4,
  "nbformat_minor": 0
}